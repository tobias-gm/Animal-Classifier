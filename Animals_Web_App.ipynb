{
  "nbformat": 4,
  "nbformat_minor": 0,
  "metadata": {
    "colab": {
      "name": "Animals Web App.ipynb",
      "provenance": []
    },
    "kernelspec": {
      "name": "python3",
      "display_name": "Python 3"
    },
    "language_info": {
      "name": "python"
    },
    "accelerator": "GPU",
    "gpuClass": "standard",
    "widgets": {
      "application/vnd.jupyter.widget-state+json": {
        "31f9799c78f04888b3e233ecb1fe44c0": {
          "model_module": "@jupyter-widgets/controls",
          "model_name": "VBoxModel",
          "model_module_version": "1.5.0",
          "state": {
            "_dom_classes": [],
            "_model_module": "@jupyter-widgets/controls",
            "_model_module_version": "1.5.0",
            "_model_name": "VBoxModel",
            "_view_count": null,
            "_view_module": "@jupyter-widgets/controls",
            "_view_module_version": "1.5.0",
            "_view_name": "VBoxView",
            "box_style": "",
            "children": [
              "IPY_MODEL_dce3772594a6432c91c052c6bd6d172f",
              "IPY_MODEL_c3a52bb311bb449c963a768d2dde4f82",
              "IPY_MODEL_05aae2f196964201ba3cd40d983441a3",
              "IPY_MODEL_6f34db3f45f34f3091caa733732111f1",
              "IPY_MODEL_44f9807029c040b795ce66464dea14c2"
            ],
            "layout": "IPY_MODEL_6ff9410d696b44aa99ddf47fddf5a5b3"
          }
        },
        "dce3772594a6432c91c052c6bd6d172f": {
          "model_module": "@jupyter-widgets/controls",
          "model_name": "LabelModel",
          "model_module_version": "1.5.0",
          "state": {
            "_dom_classes": [],
            "_model_module": "@jupyter-widgets/controls",
            "_model_module_version": "1.5.0",
            "_model_name": "LabelModel",
            "_view_count": null,
            "_view_module": "@jupyter-widgets/controls",
            "_view_module_version": "1.5.0",
            "_view_name": "LabelView",
            "description": "",
            "description_tooltip": null,
            "layout": "IPY_MODEL_54e900087bf8490186c6e8b9a9bfa0ec",
            "placeholder": "​",
            "style": "IPY_MODEL_27f21a397ad64ca1a2935db382faab8e",
            "value": "Select your animal!"
          }
        },
        "c3a52bb311bb449c963a768d2dde4f82": {
          "model_module": "@jupyter-widgets/controls",
          "model_name": "FileUploadModel",
          "model_module_version": "1.5.0",
          "state": {
            "_counter": 0,
            "_dom_classes": [],
            "_model_module": "@jupyter-widgets/controls",
            "_model_module_version": "1.5.0",
            "_model_name": "FileUploadModel",
            "_view_count": null,
            "_view_module": "@jupyter-widgets/controls",
            "_view_module_version": "1.5.0",
            "_view_name": "FileUploadView",
            "accept": "",
            "button_style": "",
            "data": [],
            "description": "Upload",
            "description_tooltip": null,
            "disabled": false,
            "error": "",
            "icon": "upload",
            "layout": "IPY_MODEL_2698f6ce8ece419fa03bddce312402e2",
            "metadata": [],
            "multiple": false,
            "style": "IPY_MODEL_4844247d19ce4de5ab5c390e2278e32b"
          }
        },
        "05aae2f196964201ba3cd40d983441a3": {
          "model_module": "@jupyter-widgets/controls",
          "model_name": "ButtonModel",
          "model_module_version": "1.5.0",
          "state": {
            "_dom_classes": [],
            "_model_module": "@jupyter-widgets/controls",
            "_model_module_version": "1.5.0",
            "_model_name": "ButtonModel",
            "_view_count": null,
            "_view_module": "@jupyter-widgets/controls",
            "_view_module_version": "1.5.0",
            "_view_name": "ButtonView",
            "button_style": "",
            "description": "Classify",
            "disabled": false,
            "icon": "",
            "layout": "IPY_MODEL_79b270656e2b478ea71e38f912073ec6",
            "style": "IPY_MODEL_ce21da22f437405da3890b3c17747277",
            "tooltip": ""
          }
        },
        "6f34db3f45f34f3091caa733732111f1": {
          "model_module": "@jupyter-widgets/output",
          "model_name": "OutputModel",
          "model_module_version": "1.0.0",
          "state": {
            "_dom_classes": [],
            "_model_module": "@jupyter-widgets/output",
            "_model_module_version": "1.0.0",
            "_model_name": "OutputModel",
            "_view_count": null,
            "_view_module": "@jupyter-widgets/output",
            "_view_module_version": "1.0.0",
            "_view_name": "OutputView",
            "layout": "IPY_MODEL_ab8d0e8c73184bdbbc5891c8f532d47c",
            "msg_id": "",
            "outputs": [
              {
                "output_type": "display_data",
                "data": {
                  "text/plain": "<PIL.Image.Image image mode=RGB size=96x128 at 0x7FED805A2B10>",
                  "image/png": "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\n"
                },
                "metadata": {}
              }
            ]
          }
        },
        "44f9807029c040b795ce66464dea14c2": {
          "model_module": "@jupyter-widgets/controls",
          "model_name": "LabelModel",
          "model_module_version": "1.5.0",
          "state": {
            "_dom_classes": [],
            "_model_module": "@jupyter-widgets/controls",
            "_model_module_version": "1.5.0",
            "_model_name": "LabelModel",
            "_view_count": null,
            "_view_module": "@jupyter-widgets/controls",
            "_view_module_version": "1.5.0",
            "_view_name": "LabelView",
            "description": "",
            "description_tooltip": null,
            "layout": "IPY_MODEL_4190c813220b46e8b1178fb810210455",
            "placeholder": "​",
            "style": "IPY_MODEL_737481c4472c4573a1bbbaf93ef61d1b",
            "value": "Prediction: racoon; Probability: 1.0000"
          }
        },
        "6ff9410d696b44aa99ddf47fddf5a5b3": {
          "model_module": "@jupyter-widgets/base",
          "model_name": "LayoutModel",
          "model_module_version": "1.2.0",
          "state": {
            "_model_module": "@jupyter-widgets/base",
            "_model_module_version": "1.2.0",
            "_model_name": "LayoutModel",
            "_view_count": null,
            "_view_module": "@jupyter-widgets/base",
            "_view_module_version": "1.2.0",
            "_view_name": "LayoutView",
            "align_content": null,
            "align_items": null,
            "align_self": null,
            "border": null,
            "bottom": null,
            "display": null,
            "flex": null,
            "flex_flow": null,
            "grid_area": null,
            "grid_auto_columns": null,
            "grid_auto_flow": null,
            "grid_auto_rows": null,
            "grid_column": null,
            "grid_gap": null,
            "grid_row": null,
            "grid_template_areas": null,
            "grid_template_columns": null,
            "grid_template_rows": null,
            "height": null,
            "justify_content": null,
            "justify_items": null,
            "left": null,
            "margin": null,
            "max_height": null,
            "max_width": null,
            "min_height": null,
            "min_width": null,
            "object_fit": null,
            "object_position": null,
            "order": null,
            "overflow": null,
            "overflow_x": null,
            "overflow_y": null,
            "padding": null,
            "right": null,
            "top": null,
            "visibility": null,
            "width": null
          }
        },
        "54e900087bf8490186c6e8b9a9bfa0ec": {
          "model_module": "@jupyter-widgets/base",
          "model_name": "LayoutModel",
          "model_module_version": "1.2.0",
          "state": {
            "_model_module": "@jupyter-widgets/base",
            "_model_module_version": "1.2.0",
            "_model_name": "LayoutModel",
            "_view_count": null,
            "_view_module": "@jupyter-widgets/base",
            "_view_module_version": "1.2.0",
            "_view_name": "LayoutView",
            "align_content": null,
            "align_items": null,
            "align_self": null,
            "border": null,
            "bottom": null,
            "display": null,
            "flex": null,
            "flex_flow": null,
            "grid_area": null,
            "grid_auto_columns": null,
            "grid_auto_flow": null,
            "grid_auto_rows": null,
            "grid_column": null,
            "grid_gap": null,
            "grid_row": null,
            "grid_template_areas": null,
            "grid_template_columns": null,
            "grid_template_rows": null,
            "height": null,
            "justify_content": null,
            "justify_items": null,
            "left": null,
            "margin": null,
            "max_height": null,
            "max_width": null,
            "min_height": null,
            "min_width": null,
            "object_fit": null,
            "object_position": null,
            "order": null,
            "overflow": null,
            "overflow_x": null,
            "overflow_y": null,
            "padding": null,
            "right": null,
            "top": null,
            "visibility": null,
            "width": null
          }
        },
        "27f21a397ad64ca1a2935db382faab8e": {
          "model_module": "@jupyter-widgets/controls",
          "model_name": "DescriptionStyleModel",
          "model_module_version": "1.5.0",
          "state": {
            "_model_module": "@jupyter-widgets/controls",
            "_model_module_version": "1.5.0",
            "_model_name": "DescriptionStyleModel",
            "_view_count": null,
            "_view_module": "@jupyter-widgets/base",
            "_view_module_version": "1.2.0",
            "_view_name": "StyleView",
            "description_width": ""
          }
        },
        "2698f6ce8ece419fa03bddce312402e2": {
          "model_module": "@jupyter-widgets/base",
          "model_name": "LayoutModel",
          "model_module_version": "1.2.0",
          "state": {
            "_model_module": "@jupyter-widgets/base",
            "_model_module_version": "1.2.0",
            "_model_name": "LayoutModel",
            "_view_count": null,
            "_view_module": "@jupyter-widgets/base",
            "_view_module_version": "1.2.0",
            "_view_name": "LayoutView",
            "align_content": null,
            "align_items": null,
            "align_self": null,
            "border": null,
            "bottom": null,
            "display": null,
            "flex": null,
            "flex_flow": null,
            "grid_area": null,
            "grid_auto_columns": null,
            "grid_auto_flow": null,
            "grid_auto_rows": null,
            "grid_column": null,
            "grid_gap": null,
            "grid_row": null,
            "grid_template_areas": null,
            "grid_template_columns": null,
            "grid_template_rows": null,
            "height": null,
            "justify_content": null,
            "justify_items": null,
            "left": null,
            "margin": null,
            "max_height": null,
            "max_width": null,
            "min_height": null,
            "min_width": null,
            "object_fit": null,
            "object_position": null,
            "order": null,
            "overflow": null,
            "overflow_x": null,
            "overflow_y": null,
            "padding": null,
            "right": null,
            "top": null,
            "visibility": null,
            "width": null
          }
        },
        "4844247d19ce4de5ab5c390e2278e32b": {
          "model_module": "@jupyter-widgets/controls",
          "model_name": "ButtonStyleModel",
          "model_module_version": "1.5.0",
          "state": {
            "_model_module": "@jupyter-widgets/controls",
            "_model_module_version": "1.5.0",
            "_model_name": "ButtonStyleModel",
            "_view_count": null,
            "_view_module": "@jupyter-widgets/base",
            "_view_module_version": "1.2.0",
            "_view_name": "StyleView",
            "button_color": null,
            "font_weight": ""
          }
        },
        "79b270656e2b478ea71e38f912073ec6": {
          "model_module": "@jupyter-widgets/base",
          "model_name": "LayoutModel",
          "model_module_version": "1.2.0",
          "state": {
            "_model_module": "@jupyter-widgets/base",
            "_model_module_version": "1.2.0",
            "_model_name": "LayoutModel",
            "_view_count": null,
            "_view_module": "@jupyter-widgets/base",
            "_view_module_version": "1.2.0",
            "_view_name": "LayoutView",
            "align_content": null,
            "align_items": null,
            "align_self": null,
            "border": null,
            "bottom": null,
            "display": null,
            "flex": null,
            "flex_flow": null,
            "grid_area": null,
            "grid_auto_columns": null,
            "grid_auto_flow": null,
            "grid_auto_rows": null,
            "grid_column": null,
            "grid_gap": null,
            "grid_row": null,
            "grid_template_areas": null,
            "grid_template_columns": null,
            "grid_template_rows": null,
            "height": null,
            "justify_content": null,
            "justify_items": null,
            "left": null,
            "margin": null,
            "max_height": null,
            "max_width": null,
            "min_height": null,
            "min_width": null,
            "object_fit": null,
            "object_position": null,
            "order": null,
            "overflow": null,
            "overflow_x": null,
            "overflow_y": null,
            "padding": null,
            "right": null,
            "top": null,
            "visibility": null,
            "width": null
          }
        },
        "ce21da22f437405da3890b3c17747277": {
          "model_module": "@jupyter-widgets/controls",
          "model_name": "ButtonStyleModel",
          "model_module_version": "1.5.0",
          "state": {
            "_model_module": "@jupyter-widgets/controls",
            "_model_module_version": "1.5.0",
            "_model_name": "ButtonStyleModel",
            "_view_count": null,
            "_view_module": "@jupyter-widgets/base",
            "_view_module_version": "1.2.0",
            "_view_name": "StyleView",
            "button_color": null,
            "font_weight": ""
          }
        },
        "4190c813220b46e8b1178fb810210455": {
          "model_module": "@jupyter-widgets/base",
          "model_name": "LayoutModel",
          "model_module_version": "1.2.0",
          "state": {
            "_model_module": "@jupyter-widgets/base",
            "_model_module_version": "1.2.0",
            "_model_name": "LayoutModel",
            "_view_count": null,
            "_view_module": "@jupyter-widgets/base",
            "_view_module_version": "1.2.0",
            "_view_name": "LayoutView",
            "align_content": null,
            "align_items": null,
            "align_self": null,
            "border": null,
            "bottom": null,
            "display": null,
            "flex": null,
            "flex_flow": null,
            "grid_area": null,
            "grid_auto_columns": null,
            "grid_auto_flow": null,
            "grid_auto_rows": null,
            "grid_column": null,
            "grid_gap": null,
            "grid_row": null,
            "grid_template_areas": null,
            "grid_template_columns": null,
            "grid_template_rows": null,
            "height": null,
            "justify_content": null,
            "justify_items": null,
            "left": null,
            "margin": null,
            "max_height": null,
            "max_width": null,
            "min_height": null,
            "min_width": null,
            "object_fit": null,
            "object_position": null,
            "order": null,
            "overflow": null,
            "overflow_x": null,
            "overflow_y": null,
            "padding": null,
            "right": null,
            "top": null,
            "visibility": null,
            "width": null
          }
        },
        "737481c4472c4573a1bbbaf93ef61d1b": {
          "model_module": "@jupyter-widgets/controls",
          "model_name": "DescriptionStyleModel",
          "model_module_version": "1.5.0",
          "state": {
            "_model_module": "@jupyter-widgets/controls",
            "_model_module_version": "1.5.0",
            "_model_name": "DescriptionStyleModel",
            "_view_count": null,
            "_view_module": "@jupyter-widgets/base",
            "_view_module_version": "1.2.0",
            "_view_name": "StyleView",
            "description_width": ""
          }
        },
        "ab8d0e8c73184bdbbc5891c8f532d47c": {
          "model_module": "@jupyter-widgets/base",
          "model_name": "LayoutModel",
          "model_module_version": "1.2.0",
          "state": {
            "_model_module": "@jupyter-widgets/base",
            "_model_module_version": "1.2.0",
            "_model_name": "LayoutModel",
            "_view_count": null,
            "_view_module": "@jupyter-widgets/base",
            "_view_module_version": "1.2.0",
            "_view_name": "LayoutView",
            "align_content": null,
            "align_items": null,
            "align_self": null,
            "border": null,
            "bottom": null,
            "display": null,
            "flex": null,
            "flex_flow": null,
            "grid_area": null,
            "grid_auto_columns": null,
            "grid_auto_flow": null,
            "grid_auto_rows": null,
            "grid_column": null,
            "grid_gap": null,
            "grid_row": null,
            "grid_template_areas": null,
            "grid_template_columns": null,
            "grid_template_rows": null,
            "height": null,
            "justify_content": null,
            "justify_items": null,
            "left": null,
            "margin": null,
            "max_height": null,
            "max_width": null,
            "min_height": null,
            "min_width": null,
            "object_fit": null,
            "object_position": null,
            "order": null,
            "overflow": null,
            "overflow_x": null,
            "overflow_y": null,
            "padding": null,
            "right": null,
            "top": null,
            "visibility": null,
            "width": null
          }
        }
      }
    }
  },
  "cells": [
    {
      "cell_type": "code",
      "execution_count": 1,
      "metadata": {
        "colab": {
          "base_uri": "https://localhost:8080/",
          "height": 1000
        },
        "id": "jC5rC-QMNGDc",
        "outputId": "adf2de0e-7832-4b92-9397-de8f3db183b2"
      },
      "outputs": [
        {
          "output_type": "stream",
          "name": "stdout",
          "text": [
            "Looking in indexes: https://pypi.org/simple, https://us-python.pkg.dev/colab-wheels/public/simple/\n",
            "Collecting voila\n",
            "  Downloading voila-0.3.6-py3-none-any.whl (1.7 MB)\n",
            "\u001b[K     |████████████████████████████████| 1.7 MB 36.9 MB/s \n",
            "\u001b[?25hCollecting jupyter-server<2.0.0,>=1.18\n",
            "  Downloading jupyter_server-1.18.1-py3-none-any.whl (344 kB)\n",
            "\u001b[K     |████████████████████████████████| 344 kB 65.9 MB/s \n",
            "\u001b[?25hCollecting nbconvert<7,>=6.4.5\n",
            "  Downloading nbconvert-6.5.0-py3-none-any.whl (561 kB)\n",
            "\u001b[K     |████████████████████████████████| 561 kB 65.0 MB/s \n",
            "\u001b[?25hCollecting websockets>=9.0\n",
            "  Downloading websockets-10.3-cp37-cp37m-manylinux_2_5_x86_64.manylinux1_x86_64.manylinux_2_12_x86_64.manylinux2010_x86_64.whl (112 kB)\n",
            "\u001b[K     |████████████████████████████████| 112 kB 67.6 MB/s \n",
            "\u001b[?25hRequirement already satisfied: traitlets<6,>=5.0.3 in /usr/local/lib/python3.7/dist-packages (from voila) (5.1.1)\n",
            "Collecting jupyterlab-server<3,>=2.3.0\n",
            "  Downloading jupyterlab_server-2.15.0-py3-none-any.whl (54 kB)\n",
            "\u001b[K     |████████████████████████████████| 54 kB 2.8 MB/s \n",
            "\u001b[?25hCollecting jupyter-client<8,>=6.1.3\n",
            "  Downloading jupyter_client-7.3.4-py3-none-any.whl (132 kB)\n",
            "\u001b[K     |████████████████████████████████| 132 kB 74.1 MB/s \n",
            "\u001b[?25hCollecting nbclient<0.6,>=0.4.0\n",
            "  Downloading nbclient-0.5.13-py3-none-any.whl (70 kB)\n",
            "\u001b[K     |████████████████████████████████| 70 kB 9.5 MB/s \n",
            "\u001b[?25hRequirement already satisfied: jupyter-core>=4.11.0 in /usr/local/lib/python3.7/dist-packages (from voila) (4.11.1)\n",
            "Requirement already satisfied: nest-asyncio>=1.5.4 in /usr/local/lib/python3.7/dist-packages (from jupyter-client<8,>=6.1.3->voila) (1.5.5)\n",
            "Requirement already satisfied: python-dateutil>=2.8.2 in /usr/local/lib/python3.7/dist-packages (from jupyter-client<8,>=6.1.3->voila) (2.8.2)\n",
            "Requirement already satisfied: entrypoints in /usr/local/lib/python3.7/dist-packages (from jupyter-client<8,>=6.1.3->voila) (0.4)\n",
            "Requirement already satisfied: pyzmq>=23.0 in /usr/local/lib/python3.7/dist-packages (from jupyter-client<8,>=6.1.3->voila) (23.2.0)\n",
            "Collecting tornado>=6.0\n",
            "  Downloading tornado-6.2-cp37-abi3-manylinux_2_5_x86_64.manylinux1_x86_64.manylinux_2_17_x86_64.manylinux2014_x86_64.whl (423 kB)\n",
            "\u001b[K     |████████████████████████████████| 423 kB 71.3 MB/s \n",
            "\u001b[?25hRequirement already satisfied: prometheus-client in /usr/local/lib/python3.7/dist-packages (from jupyter-server<2.0.0,>=1.18->voila) (0.14.1)\n",
            "Requirement already satisfied: argon2-cffi in /usr/local/lib/python3.7/dist-packages (from jupyter-server<2.0.0,>=1.18->voila) (21.3.0)\n",
            "Requirement already satisfied: nbformat>=5.2.0 in /usr/local/lib/python3.7/dist-packages (from jupyter-server<2.0.0,>=1.18->voila) (5.4.0)\n",
            "Requirement already satisfied: Send2Trash in /usr/local/lib/python3.7/dist-packages (from jupyter-server<2.0.0,>=1.18->voila) (1.8.0)\n",
            "Requirement already satisfied: jinja2 in /usr/local/lib/python3.7/dist-packages (from jupyter-server<2.0.0,>=1.18->voila) (2.11.3)\n",
            "Requirement already satisfied: terminado>=0.8.3 in /usr/local/lib/python3.7/dist-packages (from jupyter-server<2.0.0,>=1.18->voila) (0.13.3)\n",
            "Collecting anyio<4,>=3.1.0\n",
            "  Downloading anyio-3.6.1-py3-none-any.whl (80 kB)\n",
            "\u001b[K     |████████████████████████████████| 80 kB 9.5 MB/s \n",
            "\u001b[?25hRequirement already satisfied: packaging in /usr/local/lib/python3.7/dist-packages (from jupyter-server<2.0.0,>=1.18->voila) (21.3)\n",
            "Collecting websocket-client\n",
            "  Downloading websocket_client-1.3.3-py3-none-any.whl (54 kB)\n",
            "\u001b[K     |████████████████████████████████| 54 kB 3.1 MB/s \n",
            "\u001b[?25hRequirement already satisfied: typing-extensions in /usr/local/lib/python3.7/dist-packages (from anyio<4,>=3.1.0->jupyter-server<2.0.0,>=1.18->voila) (4.1.1)\n",
            "Collecting sniffio>=1.1\n",
            "  Downloading sniffio-1.2.0-py3-none-any.whl (10 kB)\n",
            "Requirement already satisfied: idna>=2.8 in /usr/local/lib/python3.7/dist-packages (from anyio<4,>=3.1.0->jupyter-server<2.0.0,>=1.18->voila) (2.10)\n",
            "Collecting jinja2\n",
            "  Downloading Jinja2-3.1.2-py3-none-any.whl (133 kB)\n",
            "\u001b[K     |████████████████████████████████| 133 kB 74.7 MB/s \n",
            "\u001b[?25hRequirement already satisfied: requests in /usr/local/lib/python3.7/dist-packages (from jupyterlab-server<3,>=2.3.0->voila) (2.23.0)\n",
            "Requirement already satisfied: jsonschema>=3.0.1 in /usr/local/lib/python3.7/dist-packages (from jupyterlab-server<3,>=2.3.0->voila) (4.3.3)\n",
            "Requirement already satisfied: importlib-metadata>=3.6 in /usr/local/lib/python3.7/dist-packages (from jupyterlab-server<3,>=2.3.0->voila) (4.12.0)\n",
            "Requirement already satisfied: babel in /usr/local/lib/python3.7/dist-packages (from jupyterlab-server<3,>=2.3.0->voila) (2.10.3)\n",
            "Collecting json5\n",
            "  Downloading json5-0.9.8.tar.gz (22 kB)\n",
            "Requirement already satisfied: zipp>=0.5 in /usr/local/lib/python3.7/dist-packages (from importlib-metadata>=3.6->jupyterlab-server<3,>=2.3.0->voila) (3.8.0)\n",
            "Requirement already satisfied: MarkupSafe>=2.0 in /usr/local/lib/python3.7/dist-packages (from jinja2->jupyter-server<2.0.0,>=1.18->voila) (2.0.1)\n",
            "Requirement already satisfied: pyrsistent!=0.17.0,!=0.17.1,!=0.17.2,>=0.14.0 in /usr/local/lib/python3.7/dist-packages (from jsonschema>=3.0.1->jupyterlab-server<3,>=2.3.0->voila) (0.18.1)\n",
            "Requirement already satisfied: importlib-resources>=1.4.0 in /usr/local/lib/python3.7/dist-packages (from jsonschema>=3.0.1->jupyterlab-server<3,>=2.3.0->voila) (5.8.0)\n",
            "Requirement already satisfied: attrs>=17.4.0 in /usr/local/lib/python3.7/dist-packages (from jsonschema>=3.0.1->jupyterlab-server<3,>=2.3.0->voila) (21.4.0)\n",
            "Requirement already satisfied: defusedxml in /usr/local/lib/python3.7/dist-packages (from nbconvert<7,>=6.4.5->voila) (0.7.1)\n",
            "Requirement already satisfied: mistune<2,>=0.8.1 in /usr/local/lib/python3.7/dist-packages (from nbconvert<7,>=6.4.5->voila) (0.8.4)\n",
            "Requirement already satisfied: jupyterlab-pygments in /usr/local/lib/python3.7/dist-packages (from nbconvert<7,>=6.4.5->voila) (0.2.2)\n",
            "Requirement already satisfied: pandocfilters>=1.4.1 in /usr/local/lib/python3.7/dist-packages (from nbconvert<7,>=6.4.5->voila) (1.5.0)\n",
            "Requirement already satisfied: pygments>=2.4.1 in /usr/local/lib/python3.7/dist-packages (from nbconvert<7,>=6.4.5->voila) (2.6.1)\n",
            "Requirement already satisfied: bleach in /usr/local/lib/python3.7/dist-packages (from nbconvert<7,>=6.4.5->voila) (5.0.1)\n",
            "Requirement already satisfied: tinycss2 in /usr/local/lib/python3.7/dist-packages (from nbconvert<7,>=6.4.5->voila) (1.1.1)\n",
            "Requirement already satisfied: beautifulsoup4 in /usr/local/lib/python3.7/dist-packages (from nbconvert<7,>=6.4.5->voila) (4.6.3)\n",
            "Requirement already satisfied: fastjsonschema in /usr/local/lib/python3.7/dist-packages (from nbformat>=5.2.0->jupyter-server<2.0.0,>=1.18->voila) (2.15.3)\n",
            "Requirement already satisfied: six>=1.5 in /usr/local/lib/python3.7/dist-packages (from python-dateutil>=2.8.2->jupyter-client<8,>=6.1.3->voila) (1.15.0)\n",
            "Requirement already satisfied: ptyprocess in /usr/local/lib/python3.7/dist-packages (from terminado>=0.8.3->jupyter-server<2.0.0,>=1.18->voila) (0.7.0)\n",
            "Requirement already satisfied: argon2-cffi-bindings in /usr/local/lib/python3.7/dist-packages (from argon2-cffi->jupyter-server<2.0.0,>=1.18->voila) (21.2.0)\n",
            "Requirement already satisfied: cffi>=1.0.1 in /usr/local/lib/python3.7/dist-packages (from argon2-cffi-bindings->argon2-cffi->jupyter-server<2.0.0,>=1.18->voila) (1.15.1)\n",
            "Requirement already satisfied: pycparser in /usr/local/lib/python3.7/dist-packages (from cffi>=1.0.1->argon2-cffi-bindings->argon2-cffi->jupyter-server<2.0.0,>=1.18->voila) (2.21)\n",
            "Requirement already satisfied: pytz>=2015.7 in /usr/local/lib/python3.7/dist-packages (from babel->jupyterlab-server<3,>=2.3.0->voila) (2022.1)\n",
            "Requirement already satisfied: webencodings in /usr/local/lib/python3.7/dist-packages (from bleach->nbconvert<7,>=6.4.5->voila) (0.5.1)\n",
            "Requirement already satisfied: pyparsing!=3.0.5,>=2.0.2 in /usr/local/lib/python3.7/dist-packages (from packaging->jupyter-server<2.0.0,>=1.18->voila) (3.0.9)\n",
            "Requirement already satisfied: certifi>=2017.4.17 in /usr/local/lib/python3.7/dist-packages (from requests->jupyterlab-server<3,>=2.3.0->voila) (2022.6.15)\n",
            "Requirement already satisfied: chardet<4,>=3.0.2 in /usr/local/lib/python3.7/dist-packages (from requests->jupyterlab-server<3,>=2.3.0->voila) (3.0.4)\n",
            "Requirement already satisfied: urllib3!=1.25.0,!=1.25.1,<1.26,>=1.21.1 in /usr/local/lib/python3.7/dist-packages (from requests->jupyterlab-server<3,>=2.3.0->voila) (1.24.3)\n",
            "Building wheels for collected packages: json5\n",
            "  Building wheel for json5 (setup.py) ... \u001b[?25l\u001b[?25hdone\n",
            "  Created wheel for json5: filename=json5-0.9.8-py2.py3-none-any.whl size=18604 sha256=cf69682ffbcf8d03a767de93de80c7f8c6f1b6eef513bd3454028f81db6091b4\n",
            "  Stored in directory: /root/.cache/pip/wheels/ac/9b/de/6e4fd8f159d3dfa42c42ceddf2184fda29ea7fb1e8f5f8371c\n",
            "Successfully built json5\n",
            "Installing collected packages: tornado, jupyter-client, sniffio, nbclient, jinja2, websocket-client, nbconvert, anyio, jupyter-server, json5, websockets, jupyterlab-server, voila\n",
            "  Attempting uninstall: tornado\n",
            "    Found existing installation: tornado 5.1.1\n",
            "    Uninstalling tornado-5.1.1:\n",
            "      Successfully uninstalled tornado-5.1.1\n",
            "  Attempting uninstall: jupyter-client\n",
            "    Found existing installation: jupyter-client 5.3.5\n",
            "    Uninstalling jupyter-client-5.3.5:\n",
            "      Successfully uninstalled jupyter-client-5.3.5\n",
            "  Attempting uninstall: nbclient\n",
            "    Found existing installation: nbclient 0.6.6\n",
            "    Uninstalling nbclient-0.6.6:\n",
            "      Successfully uninstalled nbclient-0.6.6\n",
            "  Attempting uninstall: jinja2\n",
            "    Found existing installation: Jinja2 2.11.3\n",
            "    Uninstalling Jinja2-2.11.3:\n",
            "      Successfully uninstalled Jinja2-2.11.3\n",
            "  Attempting uninstall: nbconvert\n",
            "    Found existing installation: nbconvert 5.6.1\n",
            "    Uninstalling nbconvert-5.6.1:\n",
            "      Successfully uninstalled nbconvert-5.6.1\n",
            "\u001b[31mERROR: pip's dependency resolver does not currently take into account all the packages that are installed. This behaviour is the source of the following dependency conflicts.\n",
            "google-colab 1.0.0 requires tornado~=5.1.0; python_version >= \"3.0\", but you have tornado 6.2 which is incompatible.\n",
            "flask 1.1.4 requires Jinja2<3.0,>=2.10.1, but you have jinja2 3.1.2 which is incompatible.\n",
            "datascience 0.10.6 requires folium==0.2.1, but you have folium 0.8.3 which is incompatible.\u001b[0m\n",
            "Successfully installed anyio-3.6.1 jinja2-3.1.2 json5-0.9.8 jupyter-client-7.3.4 jupyter-server-1.18.1 jupyterlab-server-2.15.0 nbclient-0.5.13 nbconvert-6.5.0 sniffio-1.2.0 tornado-6.2 voila-0.3.6 websocket-client-1.3.3 websockets-10.3\n"
          ]
        },
        {
          "output_type": "display_data",
          "data": {
            "application/vnd.colab-display-data+json": {
              "pip_warning": {
                "packages": [
                  "tornado"
                ]
              }
            }
          },
          "metadata": {}
        },
        {
          "output_type": "stream",
          "name": "stdout",
          "text": [
            "Enabling: voila\n",
            "- Writing config: /usr/etc/jupyter\n",
            "    - Validating...\n",
            "      voila  \u001b[32mOK\u001b[0m\n"
          ]
        }
      ],
      "source": [
        "!pip install voila\n",
        "!jupyter serverextension enable --sys-prefix voila"
      ]
    },
    {
      "cell_type": "code",
      "source": [
        "! [ -e /content ] && pip install -Uqq fastbook\n",
        "import fastbook\n",
        "fastbook.setup_book()"
      ],
      "metadata": {
        "colab": {
          "base_uri": "https://localhost:8080/"
        },
        "id": "2SCn_wX7yU5p",
        "outputId": "b619892a-7214-4806-900f-004d06b2d52a"
      },
      "execution_count": 2,
      "outputs": [
        {
          "output_type": "stream",
          "name": "stdout",
          "text": [
            "\u001b[K     |████████████████████████████████| 719 kB 25.0 MB/s \n",
            "\u001b[K     |████████████████████████████████| 362 kB 67.8 MB/s \n",
            "\u001b[K     |████████████████████████████████| 4.4 MB 59.6 MB/s \n",
            "\u001b[K     |████████████████████████████████| 1.2 MB 62.7 MB/s \n",
            "\u001b[K     |████████████████████████████████| 212 kB 53.0 MB/s \n",
            "\u001b[K     |████████████████████████████████| 140 kB 55.8 MB/s \n",
            "\u001b[K     |████████████████████████████████| 1.1 MB 64.3 MB/s \n",
            "\u001b[K     |████████████████████████████████| 101 kB 12.9 MB/s \n",
            "\u001b[K     |████████████████████████████████| 596 kB 69.3 MB/s \n",
            "\u001b[K     |████████████████████████████████| 127 kB 75.4 MB/s \n",
            "\u001b[K     |████████████████████████████████| 144 kB 75.2 MB/s \n",
            "\u001b[K     |████████████████████████████████| 94 kB 3.7 MB/s \n",
            "\u001b[K     |████████████████████████████████| 271 kB 73.1 MB/s \n",
            "\u001b[K     |████████████████████████████████| 6.6 MB 60.5 MB/s \n",
            "\u001b[31mERROR: pip's dependency resolver does not currently take into account all the packages that are installed. This behaviour is the source of the following dependency conflicts.\n",
            "google-colab 1.0.0 requires tornado~=5.1.0; python_version >= \"3.0\", but you have tornado 6.2 which is incompatible.\n",
            "datascience 0.10.6 requires folium==0.2.1, but you have folium 0.8.3 which is incompatible.\u001b[0m\n",
            "\u001b[?25hMounted at /content/gdrive\n"
          ]
        }
      ]
    },
    {
      "cell_type": "code",
      "source": [
        "from fastbook import *\n",
        "from fastai.vision.widgets import *"
      ],
      "metadata": {
        "id": "PzpVlJXDydBc"
      },
      "execution_count": 3,
      "outputs": []
    },
    {
      "cell_type": "code",
      "source": [
        "temp_path = Path('/content/gdrive/MyDrive/Colab Notebooks/')\n",
        "learn_inf = load_learner(temp_path/'animal_classifier.pkl')"
      ],
      "metadata": {
        "id": "wqLODceKyTxd"
      },
      "execution_count": 21,
      "outputs": []
    },
    {
      "cell_type": "code",
      "source": [
        "def on_click_classify(change):\n",
        "    img = PILImage.create(btn_upload.data[-1])\n",
        "    out_pl.clear_output()\n",
        "    with out_pl: display(img.to_thumb(128,128))\n",
        "    pred,pred_idx,probs = learn_inf.predict(img)\n",
        "    lbl_pred.value = f'Prediction: {pred}; Probability: {probs[pred_idx]:.04f}'\n",
        "\n",
        "btn_run.on_click(on_click_classify)"
      ],
      "metadata": {
        "id": "mSIyoqn-yuPH"
      },
      "execution_count": 22,
      "outputs": []
    },
    {
      "cell_type": "code",
      "source": [
        "btn_upload = widgets.FileUpload()\n",
        "VBox([widgets.Label('Select your animal!'),\n",
        "      btn_upload, btn_run, out_pl, lbl_pred])"
      ],
      "metadata": {
        "colab": {
          "base_uri": "https://localhost:8080/",
          "height": 273,
          "referenced_widgets": [
            "31f9799c78f04888b3e233ecb1fe44c0",
            "dce3772594a6432c91c052c6bd6d172f",
            "c3a52bb311bb449c963a768d2dde4f82",
            "05aae2f196964201ba3cd40d983441a3",
            "6f34db3f45f34f3091caa733732111f1",
            "44f9807029c040b795ce66464dea14c2",
            "6ff9410d696b44aa99ddf47fddf5a5b3",
            "54e900087bf8490186c6e8b9a9bfa0ec",
            "27f21a397ad64ca1a2935db382faab8e",
            "2698f6ce8ece419fa03bddce312402e2",
            "4844247d19ce4de5ab5c390e2278e32b",
            "79b270656e2b478ea71e38f912073ec6",
            "ce21da22f437405da3890b3c17747277",
            "4190c813220b46e8b1178fb810210455",
            "737481c4472c4573a1bbbaf93ef61d1b",
            "ab8d0e8c73184bdbbc5891c8f532d47c"
          ]
        },
        "id": "NzFC6F4RywWO",
        "outputId": "66b29672-99c4-496a-c2b4-8a765989b051"
      },
      "execution_count": 23,
      "outputs": [
        {
          "output_type": "display_data",
          "data": {
            "text/plain": [
              "VBox(children=(Label(value='Select your animal!'), FileUpload(value={}, description='Upload'), Button(descript…"
            ],
            "application/vnd.jupyter.widget-view+json": {
              "version_major": 2,
              "version_minor": 0,
              "model_id": "31f9799c78f04888b3e233ecb1fe44c0"
            }
          },
          "metadata": {}
        }
      ]
    }
  ]
}